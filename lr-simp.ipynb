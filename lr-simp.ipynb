{
 "cells": [
  {
   "cell_type": "code",
   "execution_count": 1,
   "id": "33ab5bb3",
   "metadata": {
    "_cell_guid": "b1076dfc-b9ad-4769-8c92-a6c4dae69d19",
    "_uuid": "8f2839f25d086af736a60e9eeb907d3b93b6e0e5",
    "execution": {
     "iopub.execute_input": "2024-10-18T14:24:39.448056Z",
     "iopub.status.busy": "2024-10-18T14:24:39.447619Z",
     "iopub.status.idle": "2024-10-18T14:24:40.342652Z",
     "shell.execute_reply": "2024-10-18T14:24:40.341265Z"
    },
    "papermill": {
     "duration": 0.910266,
     "end_time": "2024-10-18T14:24:40.345219",
     "exception": false,
     "start_time": "2024-10-18T14:24:39.434953",
     "status": "completed"
    },
    "tags": []
   },
   "outputs": [
    {
     "name": "stdout",
     "output_type": "stream",
     "text": [
      "/kaggle/input/salary-dataset-simple-linear-regression/Salary_dataset.csv\n"
     ]
    }
   ],
   "source": [
    "# This Python 3 environment comes with many helpful analytics libraries installed\n",
    "# It is defined by the kaggle/python Docker image: https://github.com/kaggle/docker-python\n",
    "# For example, here's several helpful packages to load\n",
    "\n",
    "import numpy as np # linear algebra\n",
    "import pandas as pd # data processing, CSV file I/O (e.g. pd.read_csv)\n",
    "\n",
    "# Input data files are available in the read-only \"../input/\" directory\n",
    "# For example, running this (by clicking run or pressing Shift+Enter) will list all files under the input directory\n",
    "\n",
    "import os\n",
    "for dirname, _, filenames in os.walk('/kaggle/input'):\n",
    "    for filename in filenames:\n",
    "        print(os.path.join(dirname, filename))\n",
    "\n",
    "# You can write up to 20GB to the current directory (/kaggle/working/) that gets preserved as output when you create a version using \"Save & Run All\" \n",
    "# You can also write temporary files to /kaggle/temp/, but they won't be saved outside of the current session"
   ]
  },
  {
   "cell_type": "code",
   "execution_count": 2,
   "id": "52501aff",
   "metadata": {
    "execution": {
     "iopub.execute_input": "2024-10-18T14:24:40.368713Z",
     "iopub.status.busy": "2024-10-18T14:24:40.368171Z",
     "iopub.status.idle": "2024-10-18T14:24:42.435122Z",
     "shell.execute_reply": "2024-10-18T14:24:42.434155Z"
    },
    "papermill": {
     "duration": 2.081765,
     "end_time": "2024-10-18T14:24:42.437952",
     "exception": false,
     "start_time": "2024-10-18T14:24:40.356187",
     "status": "completed"
    },
    "tags": []
   },
   "outputs": [],
   "source": [
    "import pandas as pd\n",
    "from sklearn.model_selection import train_test_split\n",
    "from sklearn.linear_model import LinearRegression\n",
    "import seaborn as sns\n",
    "import matplotlib.pyplot as plt"
   ]
  },
  {
   "cell_type": "code",
   "execution_count": 3,
   "id": "c089c690",
   "metadata": {
    "execution": {
     "iopub.execute_input": "2024-10-18T14:24:42.460936Z",
     "iopub.status.busy": "2024-10-18T14:24:42.460363Z",
     "iopub.status.idle": "2024-10-18T14:24:42.494939Z",
     "shell.execute_reply": "2024-10-18T14:24:42.493962Z"
    },
    "papermill": {
     "duration": 0.048708,
     "end_time": "2024-10-18T14:24:42.497329",
     "exception": false,
     "start_time": "2024-10-18T14:24:42.448621",
     "status": "completed"
    },
    "tags": []
   },
   "outputs": [
    {
     "data": {
      "text/html": [
       "<div>\n",
       "<style scoped>\n",
       "    .dataframe tbody tr th:only-of-type {\n",
       "        vertical-align: middle;\n",
       "    }\n",
       "\n",
       "    .dataframe tbody tr th {\n",
       "        vertical-align: top;\n",
       "    }\n",
       "\n",
       "    .dataframe thead th {\n",
       "        text-align: right;\n",
       "    }\n",
       "</style>\n",
       "<table border=\"1\" class=\"dataframe\">\n",
       "  <thead>\n",
       "    <tr style=\"text-align: right;\">\n",
       "      <th></th>\n",
       "      <th>Unnamed: 0</th>\n",
       "      <th>YearsExperience</th>\n",
       "      <th>Salary</th>\n",
       "    </tr>\n",
       "  </thead>\n",
       "  <tbody>\n",
       "    <tr>\n",
       "      <th>0</th>\n",
       "      <td>0</td>\n",
       "      <td>1.2</td>\n",
       "      <td>39344.0</td>\n",
       "    </tr>\n",
       "    <tr>\n",
       "      <th>1</th>\n",
       "      <td>1</td>\n",
       "      <td>1.4</td>\n",
       "      <td>46206.0</td>\n",
       "    </tr>\n",
       "    <tr>\n",
       "      <th>2</th>\n",
       "      <td>2</td>\n",
       "      <td>1.6</td>\n",
       "      <td>37732.0</td>\n",
       "    </tr>\n",
       "    <tr>\n",
       "      <th>3</th>\n",
       "      <td>3</td>\n",
       "      <td>2.1</td>\n",
       "      <td>43526.0</td>\n",
       "    </tr>\n",
       "    <tr>\n",
       "      <th>4</th>\n",
       "      <td>4</td>\n",
       "      <td>2.3</td>\n",
       "      <td>39892.0</td>\n",
       "    </tr>\n",
       "  </tbody>\n",
       "</table>\n",
       "</div>"
      ],
      "text/plain": [
       "   Unnamed: 0  YearsExperience   Salary\n",
       "0           0              1.2  39344.0\n",
       "1           1              1.4  46206.0\n",
       "2           2              1.6  37732.0\n",
       "3           3              2.1  43526.0\n",
       "4           4              2.3  39892.0"
      ]
     },
     "execution_count": 3,
     "metadata": {},
     "output_type": "execute_result"
    }
   ],
   "source": [
    "df = pd.read_csv('/kaggle/input/salary-dataset-simple-linear-regression/Salary_dataset.csv')\n",
    "df.head()"
   ]
  },
  {
   "cell_type": "code",
   "execution_count": 4,
   "id": "dcc376d0",
   "metadata": {
    "execution": {
     "iopub.execute_input": "2024-10-18T14:24:42.520306Z",
     "iopub.status.busy": "2024-10-18T14:24:42.519875Z",
     "iopub.status.idle": "2024-10-18T14:24:42.545417Z",
     "shell.execute_reply": "2024-10-18T14:24:42.544417Z"
    },
    "papermill": {
     "duration": 0.039739,
     "end_time": "2024-10-18T14:24:42.547918",
     "exception": false,
     "start_time": "2024-10-18T14:24:42.508179",
     "status": "completed"
    },
    "tags": []
   },
   "outputs": [
    {
     "name": "stdout",
     "output_type": "stream",
     "text": [
      "<class 'pandas.core.frame.DataFrame'>\n",
      "RangeIndex: 30 entries, 0 to 29\n",
      "Data columns (total 3 columns):\n",
      " #   Column           Non-Null Count  Dtype  \n",
      "---  ------           --------------  -----  \n",
      " 0   Unnamed: 0       30 non-null     int64  \n",
      " 1   YearsExperience  30 non-null     float64\n",
      " 2   Salary           30 non-null     float64\n",
      "dtypes: float64(2), int64(1)\n",
      "memory usage: 848.0 bytes\n"
     ]
    }
   ],
   "source": [
    "df.info()"
   ]
  },
  {
   "cell_type": "code",
   "execution_count": 5,
   "id": "5a9dab91",
   "metadata": {
    "execution": {
     "iopub.execute_input": "2024-10-18T14:24:42.571985Z",
     "iopub.status.busy": "2024-10-18T14:24:42.571540Z",
     "iopub.status.idle": "2024-10-18T14:24:42.594423Z",
     "shell.execute_reply": "2024-10-18T14:24:42.593305Z"
    },
    "papermill": {
     "duration": 0.037237,
     "end_time": "2024-10-18T14:24:42.596950",
     "exception": false,
     "start_time": "2024-10-18T14:24:42.559713",
     "status": "completed"
    },
    "tags": []
   },
   "outputs": [
    {
     "data": {
      "text/html": [
       "<div>\n",
       "<style scoped>\n",
       "    .dataframe tbody tr th:only-of-type {\n",
       "        vertical-align: middle;\n",
       "    }\n",
       "\n",
       "    .dataframe tbody tr th {\n",
       "        vertical-align: top;\n",
       "    }\n",
       "\n",
       "    .dataframe thead th {\n",
       "        text-align: right;\n",
       "    }\n",
       "</style>\n",
       "<table border=\"1\" class=\"dataframe\">\n",
       "  <thead>\n",
       "    <tr style=\"text-align: right;\">\n",
       "      <th></th>\n",
       "      <th>Unnamed: 0</th>\n",
       "      <th>YearsExperience</th>\n",
       "      <th>Salary</th>\n",
       "    </tr>\n",
       "  </thead>\n",
       "  <tbody>\n",
       "    <tr>\n",
       "      <th>count</th>\n",
       "      <td>30.000000</td>\n",
       "      <td>30.000000</td>\n",
       "      <td>30.000000</td>\n",
       "    </tr>\n",
       "    <tr>\n",
       "      <th>mean</th>\n",
       "      <td>14.500000</td>\n",
       "      <td>5.413333</td>\n",
       "      <td>76004.000000</td>\n",
       "    </tr>\n",
       "    <tr>\n",
       "      <th>std</th>\n",
       "      <td>8.803408</td>\n",
       "      <td>2.837888</td>\n",
       "      <td>27414.429785</td>\n",
       "    </tr>\n",
       "    <tr>\n",
       "      <th>min</th>\n",
       "      <td>0.000000</td>\n",
       "      <td>1.200000</td>\n",
       "      <td>37732.000000</td>\n",
       "    </tr>\n",
       "    <tr>\n",
       "      <th>25%</th>\n",
       "      <td>7.250000</td>\n",
       "      <td>3.300000</td>\n",
       "      <td>56721.750000</td>\n",
       "    </tr>\n",
       "    <tr>\n",
       "      <th>50%</th>\n",
       "      <td>14.500000</td>\n",
       "      <td>4.800000</td>\n",
       "      <td>65238.000000</td>\n",
       "    </tr>\n",
       "    <tr>\n",
       "      <th>75%</th>\n",
       "      <td>21.750000</td>\n",
       "      <td>7.800000</td>\n",
       "      <td>100545.750000</td>\n",
       "    </tr>\n",
       "    <tr>\n",
       "      <th>max</th>\n",
       "      <td>29.000000</td>\n",
       "      <td>10.600000</td>\n",
       "      <td>122392.000000</td>\n",
       "    </tr>\n",
       "  </tbody>\n",
       "</table>\n",
       "</div>"
      ],
      "text/plain": [
       "       Unnamed: 0  YearsExperience         Salary\n",
       "count   30.000000        30.000000      30.000000\n",
       "mean    14.500000         5.413333   76004.000000\n",
       "std      8.803408         2.837888   27414.429785\n",
       "min      0.000000         1.200000   37732.000000\n",
       "25%      7.250000         3.300000   56721.750000\n",
       "50%     14.500000         4.800000   65238.000000\n",
       "75%     21.750000         7.800000  100545.750000\n",
       "max     29.000000        10.600000  122392.000000"
      ]
     },
     "execution_count": 5,
     "metadata": {},
     "output_type": "execute_result"
    }
   ],
   "source": [
    "df.describe()"
   ]
  },
  {
   "cell_type": "code",
   "execution_count": 6,
   "id": "63a006c8",
   "metadata": {
    "execution": {
     "iopub.execute_input": "2024-10-18T14:24:42.621131Z",
     "iopub.status.busy": "2024-10-18T14:24:42.620686Z",
     "iopub.status.idle": "2024-10-18T14:24:42.629279Z",
     "shell.execute_reply": "2024-10-18T14:24:42.628220Z"
    },
    "papermill": {
     "duration": 0.023324,
     "end_time": "2024-10-18T14:24:42.631552",
     "exception": false,
     "start_time": "2024-10-18T14:24:42.608228",
     "status": "completed"
    },
    "tags": []
   },
   "outputs": [
    {
     "data": {
      "text/plain": [
       "Unnamed: 0         0\n",
       "YearsExperience    0\n",
       "Salary             0\n",
       "dtype: int64"
      ]
     },
     "execution_count": 6,
     "metadata": {},
     "output_type": "execute_result"
    }
   ],
   "source": [
    "df.isnull().sum()\n"
   ]
  },
  {
   "cell_type": "code",
   "execution_count": 7,
   "id": "ec0235eb",
   "metadata": {
    "execution": {
     "iopub.execute_input": "2024-10-18T14:24:42.655997Z",
     "iopub.status.busy": "2024-10-18T14:24:42.655570Z",
     "iopub.status.idle": "2024-10-18T14:24:43.089496Z",
     "shell.execute_reply": "2024-10-18T14:24:43.088295Z"
    },
    "papermill": {
     "duration": 0.449179,
     "end_time": "2024-10-18T14:24:43.092152",
     "exception": false,
     "start_time": "2024-10-18T14:24:42.642973",
     "status": "completed"
    },
    "tags": []
   },
   "outputs": [
    {
     "name": "stderr",
     "output_type": "stream",
     "text": [
      "/opt/conda/lib/python3.10/site-packages/seaborn/_oldcore.py:1119: FutureWarning: use_inf_as_na option is deprecated and will be removed in a future version. Convert inf values to NaN before operating instead.\n",
      "  with pd.option_context('mode.use_inf_as_na', True):\n",
      "/opt/conda/lib/python3.10/site-packages/seaborn/_oldcore.py:1119: FutureWarning: use_inf_as_na option is deprecated and will be removed in a future version. Convert inf values to NaN before operating instead.\n",
      "  with pd.option_context('mode.use_inf_as_na', True):\n"
     ]
    },
    {
     "data": {
      "text/plain": [
       "<seaborn.axisgrid.FacetGrid at 0x77fe61c93670>"
      ]
     },
     "execution_count": 7,
     "metadata": {},
     "output_type": "execute_result"
    },
    {
     "data": {
      "image/png": "[encoded data removed]",
      "text/plain": [
       "<Figure size 500x500 with 1 Axes>"
      ]
     },
     "metadata": {},
     "output_type": "display_data"
    }
   ],
   "source": [
    "sns.displot(x='YearsExperience', y= 'Salary',data=df)\n"
   ]
  },
  {
   "cell_type": "code",
   "execution_count": 8,
   "id": "578330fa",
   "metadata": {
    "execution": {
     "iopub.execute_input": "2024-10-18T14:24:43.118207Z",
     "iopub.status.busy": "2024-10-18T14:24:43.117372Z",
     "iopub.status.idle": "2024-10-18T14:24:43.474267Z",
     "shell.execute_reply": "2024-10-18T14:24:43.473117Z"
    },
    "papermill": {
     "duration": 0.373047,
     "end_time": "2024-10-18T14:24:43.477062",
     "exception": false,
     "start_time": "2024-10-18T14:24:43.104015",
     "status": "completed"
    },
    "tags": []
   },
   "outputs": [
    {
     "name": "stderr",
     "output_type": "stream",
     "text": [
      "/opt/conda/lib/python3.10/site-packages/seaborn/_oldcore.py:1119: FutureWarning: use_inf_as_na option is deprecated and will be removed in a future version. Convert inf values to NaN before operating instead.\n",
      "  with pd.option_context('mode.use_inf_as_na', True):\n",
      "/opt/conda/lib/python3.10/site-packages/seaborn/_oldcore.py:1119: FutureWarning: use_inf_as_na option is deprecated and will be removed in a future version. Convert inf values to NaN before operating instead.\n",
      "  with pd.option_context('mode.use_inf_as_na', True):\n"
     ]
    },
    {
     "data": {
      "text/plain": [
       "<Axes: xlabel='YearsExperience', ylabel='Salary'>"
      ]
     },
     "execution_count": 8,
     "metadata": {},
     "output_type": "execute_result"
    },
    {
     "data": {
      "image/png": "[encoded data removed]",
      "text/plain": [
       "<Figure size 640x480 with 1 Axes>"
      ]
     },
     "metadata": {},
     "output_type": "display_data"
    }
   ],
   "source": [
    "sns.lineplot(x='YearsExperience', y= 'Salary',data=df)"
   ]
  },
  {
   "cell_type": "code",
   "execution_count": 9,
   "id": "402b84d2",
   "metadata": {
    "execution": {
     "iopub.execute_input": "2024-10-18T14:24:43.504644Z",
     "iopub.status.busy": "2024-10-18T14:24:43.504190Z",
     "iopub.status.idle": "2024-10-18T14:24:43.510625Z",
     "shell.execute_reply": "2024-10-18T14:24:43.509492Z"
    },
    "papermill": {
     "duration": 0.023004,
     "end_time": "2024-10-18T14:24:43.513140",
     "exception": false,
     "start_time": "2024-10-18T14:24:43.490136",
     "status": "completed"
    },
    "tags": []
   },
   "outputs": [],
   "source": [
    "X = df[['YearsExperience']]\n",
    "y = df['Salary']\n"
   ]
  },
  {
   "cell_type": "code",
   "execution_count": 10,
   "id": "2766142a",
   "metadata": {
    "execution": {
     "iopub.execute_input": "2024-10-18T14:24:43.541018Z",
     "iopub.status.busy": "2024-10-18T14:24:43.540177Z",
     "iopub.status.idle": "2024-10-18T14:24:43.548833Z",
     "shell.execute_reply": "2024-10-18T14:24:43.547721Z"
    },
    "papermill": {
     "duration": 0.025379,
     "end_time": "2024-10-18T14:24:43.551270",
     "exception": false,
     "start_time": "2024-10-18T14:24:43.525891",
     "status": "completed"
    },
    "tags": []
   },
   "outputs": [],
   "source": [
    "X_train , X_test ,y_train , y_test = train_test_split(X,y,test_size=0.2,random_state=42)"
   ]
  },
  {
   "cell_type": "code",
   "execution_count": 11,
   "id": "243f1b60",
   "metadata": {
    "execution": {
     "iopub.execute_input": "2024-10-18T14:24:43.578906Z",
     "iopub.status.busy": "2024-10-18T14:24:43.578088Z",
     "iopub.status.idle": "2024-10-18T14:24:43.585895Z",
     "shell.execute_reply": "2024-10-18T14:24:43.584666Z"
    },
    "papermill": {
     "duration": 0.024323,
     "end_time": "2024-10-18T14:24:43.588301",
     "exception": false,
     "start_time": "2024-10-18T14:24:43.563978",
     "status": "completed"
    },
    "tags": []
   },
   "outputs": [
    {
     "data": {
      "text/plain": [
       "((24, 1), (24,), (6, 1), (6,))"
      ]
     },
     "execution_count": 11,
     "metadata": {},
     "output_type": "execute_result"
    }
   ],
   "source": [
    "X_train.shape, y_train.shape, X_test.shape, y_test.shape"
   ]
  },
  {
   "cell_type": "code",
   "execution_count": 12,
   "id": "2ecf797e",
   "metadata": {
    "execution": {
     "iopub.execute_input": "2024-10-18T14:24:43.615567Z",
     "iopub.status.busy": "2024-10-18T14:24:43.615133Z",
     "iopub.status.idle": "2024-10-18T14:24:43.639986Z",
     "shell.execute_reply": "2024-10-18T14:24:43.638964Z"
    },
    "papermill": {
     "duration": 0.041389,
     "end_time": "2024-10-18T14:24:43.642561",
     "exception": false,
     "start_time": "2024-10-18T14:24:43.601172",
     "status": "completed"
    },
    "tags": []
   },
   "outputs": [
    {
     "data": {
      "text/html": [
       "<style>#sk-container-id-1 {color: black;background-color: white;}#sk-container-id-1 pre{padding: 0;}#sk-container-id-1 div.sk-toggleable {background-color: white;}#sk-container-id-1 label.sk-toggleable__label {cursor: pointer;display: block;width: 100%;margin-bottom: 0;padding: 0.3em;box-sizing: border-box;text-align: center;}#sk-container-id-1 label.sk-toggleable__label-arrow:before {content: \"▸\";float: left;margin-right: 0.25em;color: #696969;}#sk-container-id-1 label.sk-toggleable__label-arrow:hover:before {color: black;}#sk-container-id-1 div.sk-estimator:hover label.sk-toggleable__label-arrow:before {color: black;}#sk-container-id-1 div.sk-toggleable__content {max-height: 0;max-width: 0;overflow: hidden;text-align: left;background-color: #f0f8ff;}#sk-container-id-1 div.sk-toggleable__content pre {margin: 0.2em;color: black;border-radius: 0.25em;background-color: #f0f8ff;}#sk-container-id-1 input.sk-toggleable__control:checked~div.sk-toggleable__content {max-height: 200px;max-width: 100%;overflow: auto;}#sk-container-id-1 input.sk-toggleable__control:checked~label.sk-toggleable__label-arrow:before {content: \"▾\";}#sk-container-id-1 div.sk-estimator input.sk-toggleable__control:checked~label.sk-toggleable__label {background-color: #d4ebff;}#sk-container-id-1 div.sk-label input.sk-toggleable__control:checked~label.sk-toggleable__label {background-color: #d4ebff;}#sk-container-id-1 input.sk-hidden--visually {border: 0;clip: rect(1px 1px 1px 1px);clip: rect(1px, 1px, 1px, 1px);height: 1px;margin: -1px;overflow: hidden;padding: 0;position: absolute;width: 1px;}#sk-container-id-1 div.sk-estimator {font-family: monospace;background-color: #f0f8ff;border: 1px dotted black;border-radius: 0.25em;box-sizing: border-box;margin-bottom: 0.5em;}#sk-container-id-1 div.sk-estimator:hover {background-color: #d4ebff;}#sk-container-id-1 div.sk-parallel-item::after {content: \"\";width: 100%;border-bottom: 1px solid gray;flex-grow: 1;}#sk-container-id-1 div.sk-label:hover label.sk-toggleable__label {background-color: #d4ebff;}#sk-container-id-1 div.sk-serial::before {content: \"\";position: absolute;border-left: 1px solid gray;box-sizing: border-box;top: 0;bottom: 0;left: 50%;z-index: 0;}#sk-container-id-1 div.sk-serial {display: flex;flex-direction: column;align-items: center;background-color: white;padding-right: 0.2em;padding-left: 0.2em;position: relative;}#sk-container-id-1 div.sk-item {position: relative;z-index: 1;}#sk-container-id-1 div.sk-parallel {display: flex;align-items: stretch;justify-content: center;background-color: white;position: relative;}#sk-container-id-1 div.sk-item::before, #sk-container-id-1 div.sk-parallel-item::before {content: \"\";position: absolute;border-left: 1px solid gray;box-sizing: border-box;top: 0;bottom: 0;left: 50%;z-index: -1;}#sk-container-id-1 div.sk-parallel-item {display: flex;flex-direction: column;z-index: 1;position: relative;background-color: white;}#sk-container-id-1 div.sk-parallel-item:first-child::after {align-self: flex-end;width: 50%;}#sk-container-id-1 div.sk-parallel-item:last-child::after {align-self: flex-start;width: 50%;}#sk-container-id-1 div.sk-parallel-item:only-child::after {width: 0;}#sk-container-id-1 div.sk-dashed-wrapped {border: 1px dashed gray;margin: 0 0.4em 0.5em 0.4em;box-sizing: border-box;padding-bottom: 0.4em;background-color: white;}#sk-container-id-1 div.sk-label label {font-family: monospace;font-weight: bold;display: inline-block;line-height: 1.2em;}#sk-container-id-1 div.sk-label-container {text-align: center;}#sk-container-id-1 div.sk-container {/* jupyter's `normalize.less` sets `[hidden] { display: none; }` but bootstrap.min.css set `[hidden] { display: none !important; }` so we also need the `!important` here to be able to override the default hidden behavior on the sphinx rendered scikit-learn.org. See: https://github.com/scikit-learn/scikit-learn/issues/21755 */display: inline-block !important;position: relative;}#sk-container-id-1 div.sk-text-repr-fallback {display: none;}</style><div id=\"sk-container-id-1\" class=\"sk-top-container\"><div class=\"sk-text-repr-fallback\"><pre>LinearRegression()</pre><b>In a Jupyter environment, please rerun this cell to show the HTML representation or trust the notebook. <br />On GitHub, the HTML representation is unable to render, please try loading this page with nbviewer.org.</b></div><div class=\"sk-container\" hidden><div class=\"sk-item\"><div class=\"sk-estimator sk-toggleable\"><input class=\"sk-toggleable__control sk-hidden--visually\" id=\"sk-estimator-id-1\" type=\"checkbox\" checked><label for=\"sk-estimator-id-1\" class=\"sk-toggleable__label sk-toggleable__label-arrow\">LinearRegression</label><div class=\"sk-toggleable__content\"><pre>LinearRegression()</pre></div></div></div></div></div>"
      ],
      "text/plain": [
       "LinearRegression()"
      ]
     },
     "execution_count": 12,
     "metadata": {},
     "output_type": "execute_result"
    }
   ],
   "source": [
    "lr = LinearRegression()\n",
    "lr.fit(X_train,y_train)\n"
   ]
  },
  {
   "cell_type": "code",
   "execution_count": 13,
   "id": "dd139518",
   "metadata": {
    "execution": {
     "iopub.execute_input": "2024-10-18T14:24:43.671870Z",
     "iopub.status.busy": "2024-10-18T14:24:43.671420Z",
     "iopub.status.idle": "2024-10-18T14:24:43.676734Z",
     "shell.execute_reply": "2024-10-18T14:24:43.675621Z"
    },
    "papermill": {
     "duration": 0.022571,
     "end_time": "2024-10-18T14:24:43.679113",
     "exception": false,
     "start_time": "2024-10-18T14:24:43.656542",
     "status": "completed"
    },
    "tags": []
   },
   "outputs": [],
   "source": [
    "from sklearn.metrics import accuracy_score"
   ]
  },
  {
   "cell_type": "code",
   "execution_count": 14,
   "id": "c6a5fba5",
   "metadata": {
    "execution": {
     "iopub.execute_input": "2024-10-18T14:24:43.707986Z",
     "iopub.status.busy": "2024-10-18T14:24:43.706880Z",
     "iopub.status.idle": "2024-10-18T14:24:43.715383Z",
     "shell.execute_reply": "2024-10-18T14:24:43.714226Z"
    },
    "papermill": {
     "duration": 0.02536,
     "end_time": "2024-10-18T14:24:43.717792",
     "exception": false,
     "start_time": "2024-10-18T14:24:43.692432",
     "status": "completed"
    },
    "tags": []
   },
   "outputs": [],
   "source": [
    "y_train_pred = lr.predict(X_train)\n",
    "y_test_pred = lr.predict(X_test)"
   ]
  },
  {
   "cell_type": "code",
   "execution_count": 15,
   "id": "5f1cf3e2",
   "metadata": {
    "execution": {
     "iopub.execute_input": "2024-10-18T14:24:43.745495Z",
     "iopub.status.busy": "2024-10-18T14:24:43.745036Z",
     "iopub.status.idle": "2024-10-18T14:24:43.752111Z",
     "shell.execute_reply": "2024-10-18T14:24:43.751012Z"
    },
    "papermill": {
     "duration": 0.023789,
     "end_time": "2024-10-18T14:24:43.754461",
     "exception": false,
     "start_time": "2024-10-18T14:24:43.730672",
     "status": "completed"
    },
    "tags": []
   },
   "outputs": [
    {
     "data": {
      "text/plain": [
       "122387.88083899586"
      ]
     },
     "execution_count": 15,
     "metadata": {},
     "output_type": "execute_result"
    }
   ],
   "source": [
    "y_train_pred[0]"
   ]
  },
  {
   "cell_type": "code",
   "execution_count": 16,
   "id": "63a54331",
   "metadata": {
    "execution": {
     "iopub.execute_input": "2024-10-18T14:24:43.782999Z",
     "iopub.status.busy": "2024-10-18T14:24:43.782589Z",
     "iopub.status.idle": "2024-10-18T14:24:43.787927Z",
     "shell.execute_reply": "2024-10-18T14:24:43.786647Z"
    },
    "papermill": {
     "duration": 0.022307,
     "end_time": "2024-10-18T14:24:43.790271",
     "exception": false,
     "start_time": "2024-10-18T14:24:43.767964",
     "status": "completed"
    },
    "tags": []
   },
   "outputs": [],
   "source": [
    "from sklearn.metrics import mean_squared_error, r2_score"
   ]
  },
  {
   "cell_type": "code",
   "execution_count": 17,
   "id": "1a4f6c20",
   "metadata": {
    "execution": {
     "iopub.execute_input": "2024-10-18T14:24:43.819559Z",
     "iopub.status.busy": "2024-10-18T14:24:43.818687Z",
     "iopub.status.idle": "2024-10-18T14:24:43.826707Z",
     "shell.execute_reply": "2024-10-18T14:24:43.825416Z"
    },
    "papermill": {
     "duration": 0.025463,
     "end_time": "2024-10-18T14:24:43.829188",
     "exception": false,
     "start_time": "2024-10-18T14:24:43.803725",
     "status": "completed"
    },
    "tags": []
   },
   "outputs": [
    {
     "name": "stdout",
     "output_type": "stream",
     "text": [
      "Train MSE : 27102249.73126133\n",
      "Test MSE : 49830096.855908394\n"
     ]
    }
   ],
   "source": [
    "train_mse = mean_squared_error(y_train, y_train_pred)\n",
    "test_mse = mean_squared_error(y_test, y_test_pred)\n",
    "print(\"Train MSE :\", train_mse)\n",
    "print(\"Test MSE :\", test_mse)"
   ]
  },
  {
   "cell_type": "code",
   "execution_count": 18,
   "id": "63281962",
   "metadata": {
    "execution": {
     "iopub.execute_input": "2024-10-18T14:24:43.857890Z",
     "iopub.status.busy": "2024-10-18T14:24:43.857430Z",
     "iopub.status.idle": "2024-10-18T14:24:43.866383Z",
     "shell.execute_reply": "2024-10-18T14:24:43.865323Z"
    },
    "papermill": {
     "duration": 0.027346,
     "end_time": "2024-10-18T14:24:43.869994",
     "exception": false,
     "start_time": "2024-10-18T14:24:43.842648",
     "status": "completed"
    },
    "tags": []
   },
   "outputs": [
    {
     "name": "stdout",
     "output_type": "stream",
     "text": [
      "Train R2 : 0.9645401573418148\n",
      "Test R2 : 0.9024461774180497\n"
     ]
    }
   ],
   "source": [
    "# r2\n",
    "\n",
    "train_r2 = r2_score(y_train, y_train_pred)\n",
    "test_r2 = r2_score(y_test, y_test_pred)\n",
    "print(\"Train R2 :\", train_r2)\n",
    "print(\"Test R2 :\", test_r2)"
   ]
  },
  {
   "cell_type": "code",
   "execution_count": 19,
   "id": "00649486",
   "metadata": {
    "execution": {
     "iopub.execute_input": "2024-10-18T14:24:43.898937Z",
     "iopub.status.busy": "2024-10-18T14:24:43.898521Z",
     "iopub.status.idle": "2024-10-18T14:24:43.904811Z",
     "shell.execute_reply": "2024-10-18T14:24:43.903730Z"
    },
    "papermill": {
     "duration": 0.023521,
     "end_time": "2024-10-18T14:24:43.907075",
     "exception": false,
     "start_time": "2024-10-18T14:24:43.883554",
     "status": "completed"
    },
    "tags": []
   },
   "outputs": [],
   "source": [
    "traindata = pd.DataFrame({'Actual': y_train, 'Predicted': y_train_pred})\n",
    "testdata = pd.DataFrame({'Actual': y_test, 'Predicted': y_test_pred})\n"
   ]
  },
  {
   "cell_type": "code",
   "execution_count": 20,
   "id": "ea284e92",
   "metadata": {
    "execution": {
     "iopub.execute_input": "2024-10-18T14:24:43.935782Z",
     "iopub.status.busy": "2024-10-18T14:24:43.935361Z",
     "iopub.status.idle": "2024-10-18T14:24:44.366077Z",
     "shell.execute_reply": "2024-10-18T14:24:44.364997Z"
    },
    "papermill": {
     "duration": 0.448146,
     "end_time": "2024-10-18T14:24:44.368695",
     "exception": false,
     "start_time": "2024-10-18T14:24:43.920549",
     "status": "completed"
    },
    "tags": []
   },
   "outputs": [
    {
     "data": {
      "image/png": "[encoded data removed]",
      "text/plain": [
       "<Figure size 1000x900 with 1 Axes>"
      ]
     },
     "metadata": {},
     "output_type": "display_data"
    }
   ],
   "source": [
    "sns.set_style('darkgrid')\n",
    "plt.figure(figsize=(10,9))\n",
    "sns.scatterplot(x='Actual', y='Predicted', data=traindata, s= 100, c='red', edgecolor='black')\n",
    "plt.plot(\n",
    "    [min(y.min(), y_train_pred.min()) - 1, max(y.max(), y_train_pred.max()) + 1],\n",
    "    [min(y.min(), y_train_pred.min()) - 1, max(y.max(), y_train_pred.max()) + 1], \n",
    "    '--' ,color='red'\n",
    ")\n",
    "plt.xlabel('Actual Values')\n",
    "plt.ylabel('Predicted Values')\n",
    "plt.title('Actual vs. Predicted (Training and Testing)')\n",
    "\n",
    "\n",
    "plt.grid(True)\n",
    "plt.show()"
   ]
  },
  {
   "cell_type": "code",
   "execution_count": 21,
   "id": "b834d71e",
   "metadata": {
    "execution": {
     "iopub.execute_input": "2024-10-18T14:24:44.400066Z",
     "iopub.status.busy": "2024-10-18T14:24:44.399636Z",
     "iopub.status.idle": "2024-10-18T14:24:44.405189Z",
     "shell.execute_reply": "2024-10-18T14:24:44.404049Z"
    },
    "papermill": {
     "duration": 0.023612,
     "end_time": "2024-10-18T14:24:44.407525",
     "exception": false,
     "start_time": "2024-10-18T14:24:44.383913",
     "status": "completed"
    },
    "tags": []
   },
   "outputs": [],
   "source": [
    "# try polynomial regression\n",
    "from sklearn.preprocessing import PolynomialFeatures"
   ]
  },
  {
   "cell_type": "code",
   "execution_count": 22,
   "id": "0ec0dbb5",
   "metadata": {
    "execution": {
     "iopub.execute_input": "2024-10-18T14:24:44.438898Z",
     "iopub.status.busy": "2024-10-18T14:24:44.437675Z",
     "iopub.status.idle": "2024-10-18T14:24:44.443022Z",
     "shell.execute_reply": "2024-10-18T14:24:44.442077Z"
    },
    "papermill": {
     "duration": 0.023634,
     "end_time": "2024-10-18T14:24:44.445335",
     "exception": false,
     "start_time": "2024-10-18T14:24:44.421701",
     "status": "completed"
    },
    "tags": []
   },
   "outputs": [],
   "source": [
    "poly = PolynomialFeatures(degree=2)"
   ]
  },
  {
   "cell_type": "code",
   "execution_count": 23,
   "id": "a1303abf",
   "metadata": {
    "execution": {
     "iopub.execute_input": "2024-10-18T14:24:44.477080Z",
     "iopub.status.busy": "2024-10-18T14:24:44.476648Z",
     "iopub.status.idle": "2024-10-18T14:24:44.487601Z",
     "shell.execute_reply": "2024-10-18T14:24:44.486498Z"
    },
    "papermill": {
     "duration": 0.029993,
     "end_time": "2024-10-18T14:24:44.490310",
     "exception": false,
     "start_time": "2024-10-18T14:24:44.460317",
     "status": "completed"
    },
    "tags": []
   },
   "outputs": [
    {
     "data": {
      "text/plain": [
       "array([[  1.  ,  10.4 , 108.16],\n",
       "       [  1.  ,   8.8 ,  77.44],\n",
       "       [  1.  ,   4.1 ,  16.81],\n",
       "       [  1.  ,   1.2 ,   1.44],\n",
       "       [  1.  ,   2.3 ,   5.29],\n",
       "       [  1.  ,   5.2 ,  27.04],\n",
       "       [  1.  ,   3.  ,   9.  ],\n",
       "       [  1.  ,   4.2 ,  17.64],\n",
       "       [  1.  ,   4.1 ,  16.81],\n",
       "       [  1.  ,   8.  ,  64.  ],\n",
       "       [  1.  ,   1.4 ,   1.96],\n",
       "       [  1.  ,   1.6 ,   2.56],\n",
       "       [  1.  ,   9.1 ,  82.81],\n",
       "       [  1.  ,   2.1 ,   4.41],\n",
       "       [  1.  ,   7.2 ,  51.84],\n",
       "       [  1.  ,   9.6 ,  92.16],\n",
       "       [  1.  ,   6.  ,  36.  ],\n",
       "       [  1.  ,  10.6 , 112.36],\n",
       "       [  1.  ,   6.9 ,  47.61],\n",
       "       [  1.  ,   3.3 ,  10.89],\n",
       "       [  1.  ,   4.  ,  16.  ],\n",
       "       [  1.  ,   4.6 ,  21.16],\n",
       "       [  1.  ,   6.1 ,  37.21],\n",
       "       [  1.  ,   3.1 ,   9.61]])"
      ]
     },
     "execution_count": 23,
     "metadata": {},
     "output_type": "execute_result"
    }
   ],
   "source": [
    "poly.fit_transform(X_train,y_train)\n"
   ]
  },
  {
   "cell_type": "code",
   "execution_count": 24,
   "id": "056e3a42",
   "metadata": {
    "execution": {
     "iopub.execute_input": "2024-10-18T14:24:44.521766Z",
     "iopub.status.busy": "2024-10-18T14:24:44.520714Z",
     "iopub.status.idle": "2024-10-18T14:24:44.528712Z",
     "shell.execute_reply": "2024-10-18T14:24:44.527565Z"
    },
    "papermill": {
     "duration": 0.026008,
     "end_time": "2024-10-18T14:24:44.531078",
     "exception": false,
     "start_time": "2024-10-18T14:24:44.505070",
     "status": "completed"
    },
    "tags": []
   },
   "outputs": [],
   "source": [
    "y_train_pred = poly.transform(X_train)\n",
    "y_test_pred = poly.transform(X_test)"
   ]
  },
  {
   "cell_type": "code",
   "execution_count": 25,
   "id": "95181a53",
   "metadata": {
    "execution": {
     "iopub.execute_input": "2024-10-18T14:24:44.562644Z",
     "iopub.status.busy": "2024-10-18T14:24:44.562194Z",
     "iopub.status.idle": "2024-10-18T14:24:44.571793Z",
     "shell.execute_reply": "2024-10-18T14:24:44.570752Z"
    },
    "papermill": {
     "duration": 0.02799,
     "end_time": "2024-10-18T14:24:44.574130",
     "exception": false,
     "start_time": "2024-10-18T14:24:44.546140",
     "status": "completed"
    },
    "tags": []
   },
   "outputs": [
    {
     "data": {
      "text/plain": [
       "28    122392.0\n",
       "24    109432.0\n",
       "12     56958.0\n",
       "0      39344.0\n",
       "4      39892.0\n",
       "16     66030.0\n",
       "5      56643.0\n",
       "13     57082.0\n",
       "11     55795.0\n",
       "22    101303.0\n",
       "1      46206.0\n",
       "2      37732.0\n",
       "25    105583.0\n",
       "3      43526.0\n",
       "21     98274.0\n",
       "26    116970.0\n",
       "18     81364.0\n",
       "29    121873.0\n",
       "20     91739.0\n",
       "7      54446.0\n",
       "10     63219.0\n",
       "14     61112.0\n",
       "19     93941.0\n",
       "6      60151.0\n",
       "Name: Salary, dtype: float64"
      ]
     },
     "execution_count": 25,
     "metadata": {},
     "output_type": "execute_result"
    }
   ],
   "source": [
    "y_train"
   ]
  },
  {
   "cell_type": "code",
   "execution_count": 26,
   "id": "edb2f490",
   "metadata": {
    "execution": {
     "iopub.execute_input": "2024-10-18T14:24:44.605717Z",
     "iopub.status.busy": "2024-10-18T14:24:44.605291Z",
     "iopub.status.idle": "2024-10-18T14:24:44.611043Z",
     "shell.execute_reply": "2024-10-18T14:24:44.609762Z"
    },
    "papermill": {
     "duration": 0.024764,
     "end_time": "2024-10-18T14:24:44.613752",
     "exception": false,
     "start_time": "2024-10-18T14:24:44.588988",
     "status": "completed"
    },
    "tags": []
   },
   "outputs": [
    {
     "name": "stdout",
     "output_type": "stream",
     "text": [
      "(24,)\n",
      "(24, 3)\n"
     ]
    }
   ],
   "source": [
    "print(y_train.shape)\n",
    "print(y_train_pred.shape)\n"
   ]
  },
  {
   "cell_type": "code",
   "execution_count": 27,
   "id": "e98afaf9",
   "metadata": {
    "execution": {
     "iopub.execute_input": "2024-10-18T14:24:44.645798Z",
     "iopub.status.busy": "2024-10-18T14:24:44.645292Z",
     "iopub.status.idle": "2024-10-18T14:24:44.653319Z",
     "shell.execute_reply": "2024-10-18T14:24:44.652236Z"
    },
    "papermill": {
     "duration": 0.027406,
     "end_time": "2024-10-18T14:24:44.656128",
     "exception": false,
     "start_time": "2024-10-18T14:24:44.628722",
     "status": "completed"
    },
    "tags": []
   },
   "outputs": [
    {
     "data": {
      "text/plain": [
       "array([[  1.  ,  10.4 , 108.16],\n",
       "       [  1.  ,   8.8 ,  77.44],\n",
       "       [  1.  ,   4.1 ,  16.81],\n",
       "       [  1.  ,   1.2 ,   1.44],\n",
       "       [  1.  ,   2.3 ,   5.29],\n",
       "       [  1.  ,   5.2 ,  27.04],\n",
       "       [  1.  ,   3.  ,   9.  ],\n",
       "       [  1.  ,   4.2 ,  17.64],\n",
       "       [  1.  ,   4.1 ,  16.81],\n",
       "       [  1.  ,   8.  ,  64.  ],\n",
       "       [  1.  ,   1.4 ,   1.96],\n",
       "       [  1.  ,   1.6 ,   2.56],\n",
       "       [  1.  ,   9.1 ,  82.81],\n",
       "       [  1.  ,   2.1 ,   4.41],\n",
       "       [  1.  ,   7.2 ,  51.84],\n",
       "       [  1.  ,   9.6 ,  92.16],\n",
       "       [  1.  ,   6.  ,  36.  ],\n",
       "       [  1.  ,  10.6 , 112.36],\n",
       "       [  1.  ,   6.9 ,  47.61],\n",
       "       [  1.  ,   3.3 ,  10.89],\n",
       "       [  1.  ,   4.  ,  16.  ],\n",
       "       [  1.  ,   4.6 ,  21.16],\n",
       "       [  1.  ,   6.1 ,  37.21],\n",
       "       [  1.  ,   3.1 ,   9.61]])"
      ]
     },
     "execution_count": 27,
     "metadata": {},
     "output_type": "execute_result"
    }
   ],
   "source": [
    "y_train_pred"
   ]
  },
  {
   "cell_type": "code",
   "execution_count": 28,
   "id": "d73766e7",
   "metadata": {
    "execution": {
     "iopub.execute_input": "2024-10-18T14:24:44.690088Z",
     "iopub.status.busy": "2024-10-18T14:24:44.689647Z",
     "iopub.status.idle": "2024-10-18T14:24:44.712939Z",
     "shell.execute_reply": "2024-10-18T14:24:44.711588Z"
    },
    "papermill": {
     "duration": 0.042437,
     "end_time": "2024-10-18T14:24:44.715325",
     "exception": false,
     "start_time": "2024-10-18T14:24:44.672888",
     "status": "completed"
    },
    "tags": []
   },
   "outputs": [
    {
     "name": "stdout",
     "output_type": "stream",
     "text": [
      "Train R2: 0.9713086548187267\n",
      "Test R2: 0.904842988785486\n"
     ]
    }
   ],
   "source": [
    "poly = PolynomialFeatures(degree=3)  # Choose the degree you want, e.g., 2 for quadratic\n",
    "X_train_poly = poly.fit_transform(X_train)\n",
    "X_test_poly = poly.transform(X_test)\n",
    "\n",
    "# Fit Linear Regression on polynomial features\n",
    "model = LinearRegression()\n",
    "model.fit(X_train_poly, y_train)\n",
    "\n",
    "# Make predictions\n",
    "y_train_pred = model.predict(X_train_poly)\n",
    "y_test_pred = model.predict(X_test_poly)\n",
    "\n",
    "# Calculate R² score\n",
    "train_r2 = r2_score(y_train, y_train_pred)\n",
    "test_r2 = r2_score(y_test, y_test_pred)\n",
    "print(\"Train R2:\", train_r2)\n",
    "print(\"Test R2:\", test_r2)"
   ]
  },
  {
   "cell_type": "code",
   "execution_count": 29,
   "id": "e76cabb1",
   "metadata": {
    "execution": {
     "iopub.execute_input": "2024-10-18T14:24:44.748522Z",
     "iopub.status.busy": "2024-10-18T14:24:44.747591Z",
     "iopub.status.idle": "2024-10-18T14:24:44.753876Z",
     "shell.execute_reply": "2024-10-18T14:24:44.752800Z"
    },
    "papermill": {
     "duration": 0.025548,
     "end_time": "2024-10-18T14:24:44.756280",
     "exception": false,
     "start_time": "2024-10-18T14:24:44.730732",
     "status": "completed"
    },
    "tags": []
   },
   "outputs": [],
   "source": [
    "traindata = pd.DataFrame({'Actual': y_train, 'Predicted': y_train_pred})\n",
    "testdata = pd.DataFrame({'Actual': y_test, 'Predicted': y_test_pred})\n"
   ]
  },
  {
   "cell_type": "code",
   "execution_count": 30,
   "id": "7318fa9a",
   "metadata": {
    "execution": {
     "iopub.execute_input": "2024-10-18T14:24:44.789084Z",
     "iopub.status.busy": "2024-10-18T14:24:44.788241Z",
     "iopub.status.idle": "2024-10-18T14:24:45.283627Z",
     "shell.execute_reply": "2024-10-18T14:24:45.282554Z"
    },
    "papermill": {
     "duration": 0.514859,
     "end_time": "2024-10-18T14:24:45.286448",
     "exception": false,
     "start_time": "2024-10-18T14:24:44.771589",
     "status": "completed"
    },
    "tags": []
   },
   "outputs": [
    {
     "data": {
      "text/plain": [
       "<Axes: xlabel='Actual', ylabel='Predicted'>"
      ]
     },
     "execution_count": 30,
     "metadata": {},
     "output_type": "execute_result"
    },
    {
     "data": {
      "image/png": "[encoded data removed]",
      "text/plain": [
       "<Figure size 640x480 with 1 Axes>"
      ]
     },
     "metadata": {},
     "output_type": "display_data"
    }
   ],
   "source": [
    "sns.scatterplot(x='Actual', y='Predicted', data=traindata, s= 100, c='red', edgecolor='black')\n",
    "sns.scatterplot(x='Actual', y='Predicted', data=testdata, s= 100, c='blue', edgecolor='black')"
   ]
  },
  {
   "cell_type": "code",
   "execution_count": 31,
   "id": "0ed936ec",
   "metadata": {
    "execution": {
     "iopub.execute_input": "2024-10-18T14:24:45.320578Z",
     "iopub.status.busy": "2024-10-18T14:24:45.319856Z",
     "iopub.status.idle": "2024-10-18T14:24:45.704846Z",
     "shell.execute_reply": "2024-10-18T14:24:45.703797Z"
    },
    "papermill": {
     "duration": 0.405563,
     "end_time": "2024-10-18T14:24:45.707992",
     "exception": false,
     "start_time": "2024-10-18T14:24:45.302429",
     "status": "completed"
    },
    "tags": []
   },
   "outputs": [
    {
     "data": {
      "image/png": "[encoded data removed]",
      "text/plain": [
       "<Figure size 1000x900 with 1 Axes>"
      ]
     },
     "metadata": {},
     "output_type": "display_data"
    }
   ],
   "source": [
    "sns.set_style('darkgrid')\n",
    "plt.figure(figsize=(10,9))\n",
    "sns.scatterplot(x='Actual', y='Predicted', data=traindata, s= 100, c='red', edgecolor='black')\n",
    "sns.scatterplot(x='Actual', y='Predicted', data=testdata, s= 100, c='blue', edgecolor='black')\n",
    "plt.plot(\n",
    "    [min(y.min(), y_train_pred.min()) - 1, max(y.max(), y_train_pred.max()) + 1],\n",
    "    [min(y.min(), y_train_pred.min()) - 1, max(y.max(), y_train_pred.max()) + 1], \n",
    "    '--' ,color='red'\n",
    ")\n",
    "plt.xlabel('Actual Values')\n",
    "plt.ylabel('Predicted Values')\n",
    "plt.title('Actual vs. Predicted (Training and Testing)')\n",
    "\n",
    "\n",
    "plt.grid(True)\n",
    "plt.show()"
   ]
  },
  {
   "cell_type": "code",
   "execution_count": null,
   "id": "f200f5ca",
   "metadata": {
    "papermill": {
     "duration": 0.016736,
     "end_time": "2024-10-18T14:24:45.742230",
     "exception": false,
     "start_time": "2024-10-18T14:24:45.725494",
     "status": "completed"
    },
    "tags": []
   },
   "outputs": [],
   "source": []
  }
 ],
 "metadata": {
  "kaggle": {
   "accelerator": "none",
   "dataSources": [
    {
     "datasetId": 2799910,
     "sourceId": 4832081,
     "sourceType": "datasetVersion"
    }
   ],
   "dockerImageVersionId": 30786,
   "isGpuEnabled": false,
   "isInternetEnabled": true,
   "language": "python",
   "sourceType": "notebook"
  },
  "kernelspec": {
   "display_name": "Python 3",
   "language": "python",
   "name": "python3"
  },
  "language_info": {
   "codemirror_mode": {
    "name": "ipython",
    "version": 3
   },
   "file_extension": ".py",
   "mimetype": "text/x-python",
   "name": "python",
   "nbconvert_exporter": "python",
   "pygments_lexer": "ipython3",
   "version": "3.10.14"
  },
  "papermill": {
   "default_parameters": {},
   "duration": 9.857057,
   "end_time": "2024-10-18T14:24:46.380106",
   "environment_variables": {},
   "exception": null,
   "input_path": "__notebook__.ipynb",
   "output_path": "__notebook__.ipynb",
   "parameters": {},
   "start_time": "2024-10-18T14:24:36.523049",
   "version": "2.6.0"
  }
 },
 "nbformat": 4,
 "nbformat_minor": 5
}
